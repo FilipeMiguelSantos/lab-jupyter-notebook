{
 "cells": [
  {
   "cell_type": "markdown",
   "metadata": {},
   "source": [
    "<h1  style = \"color: green\"><center>My next big trip to Mexico</center></h1>\n",
    "\n",
    "<img src=\"https://lh3.googleusercontent.com/proxy/4d_OCjJuHxw8Y-7pQUnjkXxGfZf9TIVZYVbHFZ1RrtAs9PeRG3--CifZWV3GbImzslRoOW_6DfEsJ8LCxgVJ4I_3CG_umEMmxUXPExDl9slHOVorNu6JlJowuZCGQC8DxkE\" width=\"400\" align=\"center\">\n",
    "\n"
   ]
  },
  {
   "cell_type": "markdown",
   "metadata": {},
   "source": [
    "<iframe width=\"420\" height=\"315\" src= \"https://www.youtube.com/watch?v=fJWmbLS2_ec\"> </iframe>"
   ]
  },
  {
   "cell_type": "code",
   "execution_count": null,
   "metadata": {},
   "outputs": [],
   "source": []
  }
 ],
 "metadata": {
  "kernelspec": {
   "display_name": "Python 3",
   "language": "python",
   "name": "python3"
  },
  "language_info": {
   "codemirror_mode": {
    "name": "ipython",
    "version": 3
   },
   "file_extension": ".py",
   "mimetype": "text/x-python",
   "name": "python",
   "nbconvert_exporter": "python",
   "pygments_lexer": "ipython3",
   "version": "3.7.6"
  }
 },
 "nbformat": 4,
 "nbformat_minor": 4
}
